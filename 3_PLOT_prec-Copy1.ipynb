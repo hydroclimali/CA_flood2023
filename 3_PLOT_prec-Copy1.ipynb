{
 "cells": [
  {
   "cell_type": "code",
   "execution_count": 1,
   "id": "710fc81e-083a-492a-a682-42d2f74bbd83",
   "metadata": {},
   "outputs": [],
   "source": [
    "import cartopy\n",
    "import cartopy.crs as ccrs\n",
    "import cartopy.feature as cfeature\n",
    "import datetime\n",
    "import glob\n",
    "import matplotlib as mpl\n",
    "import matplotlib.pyplot as plt\n",
    "from matplotlib.colorbar import ColorbarBase\n",
    "import numpy as np\n",
    "import os\n",
    "import pandas as pd\n",
    "import xarray as xr\n",
    "import warnings\n",
    "warnings.filterwarnings(\"ignore\")"
   ]
  },
  {
   "cell_type": "code",
   "execution_count": 2,
   "id": "534fe3f4-9aec-4b74-8ddb-c6ce2e43eec3",
   "metadata": {},
   "outputs": [],
   "source": [
    "if not os.path.exists('./Figures'):\n",
    "    os.makedirs('./Figures')"
   ]
  },
  {
   "cell_type": "code",
   "execution_count": 3,
   "id": "f6272139-284c-461e-b6ff-18ab91db1fde",
   "metadata": {},
   "outputs": [],
   "source": [
    "def add_features1(ax):\n",
    "    ax.coastlines(resolution=\"10m\")\n",
    "    ax.add_feature(cfeature.NaturalEarthFeature(category='cultural',\n",
    "                                                    name='admin_1_states_provinces_lines', \n",
    "                                                    scale='50m', facecolor='none'), \n",
    "                   edgecolor=[.2,.2,.2])\n",
    "    ax.add_feature(cfeature.BORDERS, alpha=.5)\n",
    "    ax.add_feature(cfeature.OCEAN)\n",
    "    ax.add_feature(cfeature.LAND, facecolor=[1,1,.4], alpha=.2)\n",
    "    ax.set_extent([-124.4, -114, 32.3, 42.3], ccrs.Geodetic())\n"
   ]
  },
  {
   "cell_type": "code",
   "execution_count": 4,
   "id": "31603cab-f7b7-409c-a20d-8652d0661f55",
   "metadata": {},
   "outputs": [],
   "source": [
    "mask = xr.open_dataset('./Data/mask_CA.nc').mask\n",
    "\n",
    "proj = ccrs.Orthographic(\n",
    "    central_longitude=-118,\n",
    "    central_latitude=37, globe=None)\n",
    "\n",
    "bounds = [0.05,0.1,0.2,0.3,0.4,0.5, 0.6,0.8,1,1.25,1.5,1.75,2, 2.5,3,3.5,4,5, 6,7,8,10, \n",
    "          12,14,16,18,20, 24,28,32,36,50]\n",
    "c = plt.cm.get_cmap('nipy_spectral_r', len(bounds)+1) # dividing the colormap into specific number of bins\n",
    "cmaplist = [c(n) for n in range(c.N)]#[1:] #remove the gray color from nipy_spectral\n",
    "cmap = mpl.colors.ListedColormap([cmaplist[i][:-1] for i in range(len(bounds)+1)])\n",
    "cmap.set_over(cmaplist[-1][:-1])\n",
    "norm = mpl.colors.BoundaryNorm(bounds, cmap.N)\n",
    "vmax = bounds[-1]"
   ]
  },
  {
   "cell_type": "code",
   "execution_count": 5,
   "id": "e6845b9e-0dc9-4904-82b0-5376019390a9",
   "metadata": {},
   "outputs": [],
   "source": [
    "def plot_pr_hr(ds, ds_sum, xvals, yvals, proj, bounds, cmap, norm, vmax, xtick_labels, closefig):\n",
    "    fig = plt.figure(figsize=(11, 4.3))\n",
    "    # Hourly plot:\n",
    "    ax = fig.add_subplot(1, 4, 1, projection=proj)\n",
    "    dataplot = ds.pr[0]\n",
    "    ax.plot = dataplot.where(dataplot>=bounds[0]).plot(\n",
    "        cmap=cmap, norm=norm, transform=ccrs.PlateCarree(),\n",
    "        add_colorbar=False,\n",
    "    )\n",
    "    add_features1(ax)\n",
    "    title1 = (pd.to_datetime(ds.time.values[0]) - datetime.timedelta(hours=8)).strftime('%Y-%m-%d %H:%M (PST)')\n",
    "    plt.title(title1, fontsize=12, color = 'b')\n",
    "    plt.tight_layout()\n",
    "    plt.subplots_adjust(top=0.92, bottom=0.20)\n",
    "    ##########################################\n",
    "    # Cumulative plot:\n",
    "    ax = fig.add_subplot(1, 4, 2, projection=proj)\n",
    "    dataplot = ds_sum.pr.where(dataplot<=bounds[-1],bounds[-1]-.01).where(mask)\n",
    "    ax.plot = dataplot.where(dataplot>=0.05).plot(\n",
    "        cmap=cmap, norm=norm, transform=ccrs.PlateCarree(),\n",
    "        add_colorbar=False,\n",
    "    )\n",
    "    add_features1(ax)\n",
    "    plt.title('Total precip since 2022-12-26', fontsize=12, color = 'b')\n",
    "    ##########################################\n",
    "    # Colorbar:\n",
    "    ax_c = fig.add_axes([0.015, 0.17, 0.477, 0.03])\n",
    "    cb = ColorbarBase(ax_c, cmap=cmap,  norm=norm, orientation='horizontal', \n",
    "                      extend='max', ticks=bounds[:-1])\n",
    "    cb.ax.set_xticklabels(bounds[:-1])\n",
    "    cb.ax.tick_params(labelsize=9, rotation=-90)\n",
    "    cb.set_label(label='Precipitation (inch)', size=12)\n",
    "    plt.tight_layout()\n",
    "    plt.subplots_adjust(top=0.92, bottom=0.22)\n",
    "    ##########################################\n",
    "    # Timeseries:\n",
    "    ax = fig.add_axes([0.57, 0.33, 0.41, 0.58])\n",
    "    x = np.arange(len(xvals))\n",
    "    plt.plot(x, yvals, color='g', linewidth=2)\n",
    "    plt.xticks(ticks=np.arange(0,505,24), rotation=-90, fontsize=10)\n",
    "    ax.set_xticklabels(xtick_labels, fontsize=9)\n",
    "    plt.ylim([0,30])\n",
    "    plt.xlim([0,504])\n",
    "    plt.ylabel('Trillion Gallons', fontsize=11)\n",
    "    plt.title('Cumulative Precipitation Water across CA', color='b', fontsize=13)\n",
    "    plt.grid()\n",
    "    ##########################################\n",
    "    # Annotation:\n",
    "    ax.annotate('Visualization: ', xy=(0.55, 0.075), xycoords='figure fraction',\n",
    "                fontsize=12, fontweight='bold', color='r', ha='left')\n",
    "    ax.annotate('Ali Ahmadalipour', xy=(0.67, 0.075), xycoords='figure fraction',\n",
    "                fontsize=12, color='k', ha='left')\n",
    "    ax.annotate('Data:', xy=(0.55, 0.03), xycoords='figure fraction',\n",
    "                fontsize=11, fontweight='bold', color='r', ha='left')\n",
    "    ax.annotate('MRMS (Multi-Radar Multi-Sensor QPE 1hr Pass2), NOAA', xy=(0.598, 0.03), xycoords='figure fraction',\n",
    "                fontsize=11, color='k', ha='left')\n",
    "\n",
    "\n",
    "    savename = f'./Figures/Fig_{(pd.to_datetime(ds.time) - datetime.timedelta(hours=8)).strftime(\"%Y_%m_%d_%H00\")[0]}.png'\n",
    "    plt.savefig(savename, format='png', dpi=200)\n",
    "    if closefig:\n",
    "        plt.close()"
   ]
  },
  {
   "cell_type": "code",
   "execution_count": 6,
   "id": "f5c82842-f226-4631-95a9-dcc2e58ed447",
   "metadata": {},
   "outputs": [],
   "source": [
    "CA_area_m2 = round(mask.sum().values*0.05*91800*0.05*111111)\n",
    "inch_to_m = 25.4/1000\n",
    "m3_to_gallon = 264.172\n",
    "to_trillion = 1e12"
   ]
  },
  {
   "cell_type": "code",
   "execution_count": 7,
   "id": "a3343780-5643-45fd-9ba5-28fc7ce621bf",
   "metadata": {},
   "outputs": [],
   "source": [
    "files = glob.glob('./Data/PROCCED_hourly/MRMS_*.nc')\n",
    "files.sort()\n",
    "files = files[80:585]"
   ]
  },
  {
   "cell_type": "code",
   "execution_count": 8,
   "id": "e47bca8e-a81c-40f5-b14a-150428b16c9d",
   "metadata": {},
   "outputs": [],
   "source": [
    "xtick_labels = []\n",
    "for i in range(0,len(files),24):\n",
    "    xtick_labels.append(f'{files[i][59:63]}-{files[i][63:65]}-{files[i][65:67]}')"
   ]
  },
  {
   "cell_type": "code",
   "execution_count": 9,
   "id": "ba3cd5f7-fc63-44f2-8a52-c2159363c66f",
   "metadata": {
    "tags": []
   },
   "outputs": [],
   "source": [
    "yvals = []\n",
    "xvals = []\n",
    "\n",
    "for i in range(len(files)):\n",
    "    filename = files[i]\n",
    "    ds = xr.open_dataset(filename)\n",
    "    ds = ds/25.4 #convert mm to inch\n",
    "    if i==0:\n",
    "        ds_sum = ds.mean('time')\n",
    "    else:\n",
    "        ds_sum += ds.mean('time')\n",
    "    xvals.append((pd.to_datetime(ds.time) - datetime.timedelta(hours=8)).values)\n",
    "    total_rain = float(ds_sum.where(mask).pr.mean().values)\n",
    "    TrGal = round(total_rain * inch_to_m * CA_area_m2 * m3_to_gallon / to_trillion,2)\n",
    "    yvals.append(round(TrGal,2))\n",
    "    # if i > 500:\n",
    "    #     print(filename)\n",
    "    #     x\n",
    "    plot_pr_hr(ds, ds_sum, xvals, yvals, proj, bounds, cmap, norm, vmax, xtick_labels, closefig=True)"
   ]
  },
  {
   "cell_type": "markdown",
   "id": "d93db980-41fa-49ed-a69e-a870cebce999",
   "metadata": {},
   "source": [
    "## Video"
   ]
  },
  {
   "cell_type": "code",
   "execution_count": 10,
   "id": "7b3cc2da-2477-482f-a3f2-ddbfb417815e",
   "metadata": {},
   "outputs": [],
   "source": [
    "import cv2\n",
    "import glob"
   ]
  },
  {
   "cell_type": "code",
   "execution_count": 11,
   "id": "ca55af09-8c92-43a6-be6d-001364645813",
   "metadata": {},
   "outputs": [],
   "source": [
    "files = glob.glob('./Figures/Fig_*.png')\n",
    "files.sort()"
   ]
  },
  {
   "cell_type": "code",
   "execution_count": 12,
   "id": "b63289e8-8b0d-415b-90e5-fa4acacacdc5",
   "metadata": {},
   "outputs": [
    {
     "name": "stderr",
     "output_type": "stream",
     "text": [
      "OpenCV: FFMPEG: tag 0x5634504d/'MP4V' is not supported with codec id 12 and format 'mp4 / MP4 (MPEG-4 Part 14)'\n",
      "OpenCV: FFMPEG: fallback to use tag 0x7634706d/'mp4v'\n"
     ]
    }
   ],
   "source": [
    "img_array = []\n",
    "for filename in files:\n",
    "    img = cv2.imread(filename)\n",
    "    height, width, layers = img.shape\n",
    "    size = (width,height)\n",
    "    img_array.append(img)\n",
    "\n",
    "out = cv2.VideoWriter('Vid_Prec_CAflood_17fps.mp4',cv2.VideoWriter_fourcc(*'MP4V'), 17, size)\n",
    " \n",
    "for i in range(len(img_array)):\n",
    "    out.write(img_array[i])\n",
    "out.release()"
   ]
  },
  {
   "cell_type": "code",
   "execution_count": null,
   "id": "138922d0-cc35-4e08-8726-71c486845b28",
   "metadata": {},
   "outputs": [],
   "source": []
  }
 ],
 "metadata": {
  "kernelspec": {
   "display_name": "Python 3 (ipykernel)",
   "language": "python",
   "name": "python3"
  },
  "language_info": {
   "codemirror_mode": {
    "name": "ipython",
    "version": 3
   },
   "file_extension": ".py",
   "mimetype": "text/x-python",
   "name": "python",
   "nbconvert_exporter": "python",
   "pygments_lexer": "ipython3",
   "version": "3.9.13"
  }
 },
 "nbformat": 4,
 "nbformat_minor": 5
}
