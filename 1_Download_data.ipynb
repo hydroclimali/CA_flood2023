{
 "cells": [
  {
   "cell_type": "code",
   "execution_count": 2,
   "id": "c7668fdf-46ef-4713-9d1e-4ad425c7d971",
   "metadata": {},
   "outputs": [],
   "source": [
    "import boto3\n",
    "from botocore import UNSIGNED\n",
    "from botocore.config import Config\n",
    "import datetime\n",
    "import os\n",
    "import glob\n",
    "import numpy as np\n",
    "import pandas as pd\n",
    "import subprocess\n",
    "import xarray as xr"
   ]
  },
  {
   "cell_type": "code",
   "execution_count": 3,
   "id": "9246e5c5-6621-4c3e-abe3-4827916aaec1",
   "metadata": {},
   "outputs": [],
   "source": [
    "dirs_to_make = ['Data/RAW', 'Data/PROCCED_hourly']\n",
    "for directory in dirs_to_make:\n",
    "    if not os.path.exists(directory):\n",
    "        os.makedirs(directory)"
   ]
  },
  {
   "cell_type": "code",
   "execution_count": 12,
   "id": "c117e985-3700-4889-80b3-21f60d52e3f1",
   "metadata": {},
   "outputs": [],
   "source": [
    "start_date = datetime.datetime(2022,12,23,0)\n",
    "end_date = datetime.datetime(2023,1,17,0)"
   ]
  },
  {
   "cell_type": "code",
   "execution_count": 5,
   "id": "63db6bc8-3bd8-43e4-adc6-6e5fdaa33dae",
   "metadata": {},
   "outputs": [
    {
     "data": {
      "text/plain": [
       "datetime.datetime(2022, 12, 23, 0, 0)"
      ]
     },
     "execution_count": 5,
     "metadata": {},
     "output_type": "execute_result"
    }
   ],
   "source": [
    "start_date"
   ]
  },
  {
   "cell_type": "code",
   "execution_count": 13,
   "id": "e52260bf-10f2-4c30-912e-4fd2db3a945e",
   "metadata": {},
   "outputs": [],
   "source": [
    "## Connect to AWS s3\n",
    "s3_resource = boto3.resource(\"s3\", config=Config(signature_version=UNSIGNED))\n",
    "s3_bucket   = \"noaa-mrms-pds\""
   ]
  },
  {
   "cell_type": "code",
   "execution_count": 14,
   "id": "aa9059a1-6a9e-4c5c-a9ed-0867a91c93e4",
   "metadata": {},
   "outputs": [],
   "source": [
    "def download_MRMS_AWS(yyyy,mm,dd,hh):\n",
    "    s3_file_path = f'CONUS/MultiSensor_QPE_01H_Pass2_00.00/{yyyy}{mm}{dd}'\n",
    "    s3_object_name = f'MRMS_MultiSensor_QPE_01H_Pass2_00.00_{yyyy}{mm}{dd}-{hh}0000.grib2.gz'\n",
    "    if not os.path.exists(f'./Data/RAW/{s3_object_name}') and not os.path.exists(f'./Data/RAW/{s3_object_name[:-3]}'):\n",
    "        s3_resource.Bucket(s3_bucket).download_file(\n",
    "            Filename=f'./Data/RAW/{s3_object_name}',\n",
    "            Key=f'{s3_file_path}/{s3_object_name}')"
   ]
  },
  {
   "cell_type": "code",
   "execution_count": 15,
   "id": "2f64520d-c0ae-4f87-9f26-4367cb517ecb",
   "metadata": {},
   "outputs": [],
   "source": [
    "target_time = start_date\n",
    "while target_time < end_date:\n",
    "    yyyy = target_time.strftime(\"%Y\")\n",
    "    mm = target_time.strftime(\"%m\")\n",
    "    dd = target_time.strftime(\"%d\")\n",
    "    hh = target_time.strftime(\"%H\")\n",
    "    download_MRMS_AWS(yyyy,mm,dd,hh)\n",
    "    target_time += datetime.timedelta(hours=1)\n",
    "    # print(target_time)"
   ]
  },
  {
   "cell_type": "markdown",
   "id": "62cf5409-9da2-4165-b3b0-9608b23d4d1e",
   "metadata": {},
   "source": [
    "## Unzip .gz:"
   ]
  },
  {
   "cell_type": "code",
   "execution_count": 16,
   "id": "e94b7ef4-5610-47af-b24a-e73ea4eb9472",
   "metadata": {},
   "outputs": [],
   "source": [
    "files = glob.glob('Data/RAW/*.gz')\n",
    "files.sort()"
   ]
  },
  {
   "cell_type": "code",
   "execution_count": 17,
   "id": "2f3ccacd-a9fb-40d6-a375-2e21c7551ee8",
   "metadata": {},
   "outputs": [],
   "source": [
    "def unzip_gz_convert_grib(filename):\n",
    "    if not filename.endswith('.gz'):\n",
    "        raise Exception(\"The filename should end with .gz\")\n",
    "    bash_command = f'gunzip {filename}'\n",
    "    process = subprocess.Popen(bash_command.split(), stdout=subprocess.PIPE)\n",
    "    output, error = process.communicate()    "
   ]
  },
  {
   "cell_type": "code",
   "execution_count": 18,
   "id": "4e4ce945-f51c-4b48-8d67-057572384468",
   "metadata": {},
   "outputs": [],
   "source": [
    "for filename in files:\n",
    "    unzip_gz_convert_grib(filename)"
   ]
  },
  {
   "cell_type": "code",
   "execution_count": null,
   "id": "7dbdfd08-3dc9-4b49-88c1-3237f4d79fe8",
   "metadata": {},
   "outputs": [],
   "source": []
  },
  {
   "cell_type": "markdown",
   "id": "84ab10b7-e2fb-4f65-a6c2-6c8ef78e27ba",
   "metadata": {},
   "source": [
    "## Extract data:"
   ]
  },
  {
   "cell_type": "code",
   "execution_count": 2,
   "id": "8e4712ad-9e83-4bf6-9a39-0d7ab5d8b96f",
   "metadata": {},
   "outputs": [],
   "source": [
    "files = glob.glob('Data/RAW/*.grib2')\n",
    "files.sort()"
   ]
  },
  {
   "cell_type": "code",
   "execution_count": 3,
   "id": "a68b0c36-9245-4f47-a7f5-e27770a96b13",
   "metadata": {},
   "outputs": [],
   "source": [
    "filename = files[0]"
   ]
  },
  {
   "cell_type": "code",
   "execution_count": 4,
   "id": "d0f0dace-a8fc-4c75-a369-59d05fa0b248",
   "metadata": {},
   "outputs": [
    {
     "ename": "ValueError",
     "evalue": "unrecognized engine cfgrib must be one of: ['scipy', 'store']",
     "output_type": "error",
     "traceback": [
      "\u001b[0;31m---------------------------------------------------------------------------\u001b[0m",
      "\u001b[0;31mValueError\u001b[0m                                Traceback (most recent call last)",
      "\u001b[0;32m/var/folders/r6/xwwxvtf17bqdf6lhpvr_d5380000gn/T/ipykernel_59360/3425346446.py\u001b[0m in \u001b[0;36m<module>\u001b[0;34m\u001b[0m\n\u001b[0;32m----> 1\u001b[0;31m \u001b[0mds\u001b[0m \u001b[0;34m=\u001b[0m \u001b[0mxr\u001b[0m\u001b[0;34m.\u001b[0m\u001b[0mopen_dataset\u001b[0m\u001b[0;34m(\u001b[0m\u001b[0mfilename\u001b[0m\u001b[0;34m,\u001b[0m \u001b[0mengine\u001b[0m\u001b[0;34m=\u001b[0m\u001b[0;34m'cfgrib'\u001b[0m\u001b[0;34m)\u001b[0m\u001b[0;34m\u001b[0m\u001b[0;34m\u001b[0m\u001b[0m\n\u001b[0m",
      "\u001b[0;32m~/opt/anaconda3/lib/python3.9/site-packages/xarray/backends/api.py\u001b[0m in \u001b[0;36mopen_dataset\u001b[0;34m(filename_or_obj, engine, chunks, cache, decode_cf, mask_and_scale, decode_times, decode_timedelta, use_cftime, concat_characters, decode_coords, drop_variables, backend_kwargs, *args, **kwargs)\u001b[0m\n\u001b[1;32m    479\u001b[0m         \u001b[0mengine\u001b[0m \u001b[0;34m=\u001b[0m \u001b[0mplugins\u001b[0m\u001b[0;34m.\u001b[0m\u001b[0mguess_engine\u001b[0m\u001b[0;34m(\u001b[0m\u001b[0mfilename_or_obj\u001b[0m\u001b[0;34m)\u001b[0m\u001b[0;34m\u001b[0m\u001b[0;34m\u001b[0m\u001b[0m\n\u001b[1;32m    480\u001b[0m \u001b[0;34m\u001b[0m\u001b[0m\n\u001b[0;32m--> 481\u001b[0;31m     \u001b[0mbackend\u001b[0m \u001b[0;34m=\u001b[0m \u001b[0mplugins\u001b[0m\u001b[0;34m.\u001b[0m\u001b[0mget_backend\u001b[0m\u001b[0;34m(\u001b[0m\u001b[0mengine\u001b[0m\u001b[0;34m)\u001b[0m\u001b[0;34m\u001b[0m\u001b[0;34m\u001b[0m\u001b[0m\n\u001b[0m\u001b[1;32m    482\u001b[0m \u001b[0;34m\u001b[0m\u001b[0m\n\u001b[1;32m    483\u001b[0m     decoders = _resolve_decoders_kwargs(\n",
      "\u001b[0;32m~/opt/anaconda3/lib/python3.9/site-packages/xarray/backends/plugins.py\u001b[0m in \u001b[0;36mget_backend\u001b[0;34m(engine)\u001b[0m\n\u001b[1;32m    158\u001b[0m         \u001b[0mengines\u001b[0m \u001b[0;34m=\u001b[0m \u001b[0mlist_engines\u001b[0m\u001b[0;34m(\u001b[0m\u001b[0;34m)\u001b[0m\u001b[0;34m\u001b[0m\u001b[0;34m\u001b[0m\u001b[0m\n\u001b[1;32m    159\u001b[0m         \u001b[0;32mif\u001b[0m \u001b[0mengine\u001b[0m \u001b[0;32mnot\u001b[0m \u001b[0;32min\u001b[0m \u001b[0mengines\u001b[0m\u001b[0;34m:\u001b[0m\u001b[0;34m\u001b[0m\u001b[0;34m\u001b[0m\u001b[0m\n\u001b[0;32m--> 160\u001b[0;31m             raise ValueError(\n\u001b[0m\u001b[1;32m    161\u001b[0m                 \u001b[0;34mf\"unrecognized engine {engine} must be one of: {list(engines)}\"\u001b[0m\u001b[0;34m\u001b[0m\u001b[0;34m\u001b[0m\u001b[0m\n\u001b[1;32m    162\u001b[0m             )\n",
      "\u001b[0;31mValueError\u001b[0m: unrecognized engine cfgrib must be one of: ['scipy', 'store']"
     ]
    }
   ],
   "source": [
    "ds = xr.open_dataset(filename, engine='cfgrib')"
   ]
  },
  {
   "cell_type": "code",
   "execution_count": null,
   "id": "633ef6c7-3670-4f6b-b799-b37ff11591b7",
   "metadata": {},
   "outputs": [
    {
     "name": "stdout",
     "output_type": "stream",
     "text": [
      "Requirement already satisfied: cfgrib in /Users/ali/venv/lib/python3.9/site-packages (0.9.10.3)\n",
      "Requirement already satisfied: click in /Users/ali/venv/lib/python3.9/site-packages (from cfgrib) (8.1.3)\n",
      "Requirement already satisfied: numpy in /Users/ali/venv/lib/python3.9/site-packages (from cfgrib) (1.24.1)\n",
      "Requirement already satisfied: eccodes>=0.9.8 in /Users/ali/venv/lib/python3.9/site-packages (from cfgrib) (1.5.0)\n",
      "Requirement already satisfied: attrs>=19.2 in /Users/ali/venv/lib/python3.9/site-packages (from cfgrib) (22.2.0)\n",
      "Requirement already satisfied: cffi in /Users/ali/venv/lib/python3.9/site-packages (from eccodes>=0.9.8->cfgrib) (1.15.1)\n",
      "Requirement already satisfied: findlibs in /Users/ali/venv/lib/python3.9/site-packages (from eccodes>=0.9.8->cfgrib) (0.0.2)\n",
      "Requirement already satisfied: pycparser in /Users/ali/venv/lib/python3.9/site-packages (from cffi->eccodes>=0.9.8->cfgrib) (2.21)\n"
     ]
    }
   ],
   "source": [
    "!pip install cfgrib"
   ]
  },
  {
   "cell_type": "code",
   "execution_count": 1,
   "id": "12ef2a84-c7f4-4705-b9f2-0157c6d348b1",
   "metadata": {},
   "outputs": [
    {
     "ename": "ModuleNotFoundError",
     "evalue": "No module named 'cfgrib'",
     "output_type": "error",
     "traceback": [
      "\u001b[0;31m---------------------------------------------------------------------------\u001b[0m",
      "\u001b[0;31mModuleNotFoundError\u001b[0m                       Traceback (most recent call last)",
      "\u001b[0;32m/var/folders/r6/xwwxvtf17bqdf6lhpvr_d5380000gn/T/ipykernel_62719/857012844.py\u001b[0m in \u001b[0;36m<module>\u001b[0;34m\u001b[0m\n\u001b[0;32m----> 1\u001b[0;31m \u001b[0;32mimport\u001b[0m \u001b[0mcfgrib\u001b[0m\u001b[0;34m\u001b[0m\u001b[0;34m\u001b[0m\u001b[0m\n\u001b[0m",
      "\u001b[0;31mModuleNotFoundError\u001b[0m: No module named 'cfgrib'"
     ]
    }
   ],
   "source": [
    "import cfgrib"
   ]
  },
  {
   "cell_type": "code",
   "execution_count": null,
   "id": "e6c889d5-411b-46f7-ad7b-0638d29b4481",
   "metadata": {},
   "outputs": [],
   "source": []
  }
 ],
 "metadata": {
  "kernelspec": {
   "display_name": "Python 3 (ipykernel)",
   "language": "python",
   "name": "python3"
  },
  "language_info": {
   "codemirror_mode": {
    "name": "ipython",
    "version": 3
   },
   "file_extension": ".py",
   "mimetype": "text/x-python",
   "name": "python",
   "nbconvert_exporter": "python",
   "pygments_lexer": "ipython3",
   "version": "3.9.13"
  }
 },
 "nbformat": 4,
 "nbformat_minor": 5
}
